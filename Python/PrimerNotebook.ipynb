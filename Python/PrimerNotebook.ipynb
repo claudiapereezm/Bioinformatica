{
 "cells": [
  {
   "cell_type": "markdown",
   "id": "230197c3-04dd-407c-a57c-e4e218084737",
   "metadata": {},
   "source": [
    "# MI PRIMER NOTEBOOK"
   ]
  },
  {
   "cell_type": "markdown",
   "id": "cf4dc49f-00b2-4904-81e9-77aff0f6036d",
   "metadata": {},
   "source": [
    "## Este es mi primer notebook y voy a hacer lo siguiente"
   ]
  },
  {
   "cell_type": "markdown",
   "id": "184ac2d3-211f-4de5-8bca-e62b95576ca6",
   "metadata": {},
   "source": [
    "Una lista **enumerada**:"
   ]
  },
  {
   "cell_type": "markdown",
   "id": "21792aa4-f3d8-426b-b527-3de480a9e76b",
   "metadata": {},
   "source": [
    "1. Primero\n",
    "2. Segundo\n",
    "3. Tercero"
   ]
  },
  {
   "cell_type": "markdown",
   "id": "626356fb-0a56-4bc4-94f2-c045ea461682",
   "metadata": {},
   "source": [
    "Una lista **por puntos**:"
   ]
  },
  {
   "cell_type": "markdown",
   "id": "7ea4fa63-015f-4d2a-8563-406d413f2f4e",
   "metadata": {},
   "source": [
    "- Primero\n",
    "- Segundo\n",
    "- Tercero"
   ]
  },
  {
   "cell_type": "markdown",
   "id": "90fbc090-15a5-4621-9943-6c87dedd7c58",
   "metadata": {},
   "source": [
    "Mi primer código"
   ]
  },
  {
   "cell_type": "code",
   "execution_count": 13,
   "id": "31113bda-8f74-47f9-b3f4-64f8688bc8cf",
   "metadata": {},
   "outputs": [],
   "source": [
    "mi_primera_frase=\"Hello world\""
   ]
  },
  {
   "cell_type": "code",
   "execution_count": 14,
   "id": "2c9897f9-e562-44ea-99db-cb2cc3af1280",
   "metadata": {},
   "outputs": [
    {
     "name": "stdout",
     "output_type": "stream",
     "text": [
      "Hello world\n"
     ]
    }
   ],
   "source": [
    "print(mi_primera_frase)"
   ]
  },
  {
   "cell_type": "code",
   "execution_count": 19,
   "id": "7a9f6f3d-f2c8-4247-8389-ff393847f1db",
   "metadata": {},
   "outputs": [],
   "source": [
    "numeros=(10,20,30,40,50)"
   ]
  },
  {
   "cell_type": "code",
   "execution_count": 20,
   "id": "d74c2b67-a79e-494c-be60-b35c3d8eee7c",
   "metadata": {},
   "outputs": [],
   "source": [
    "media=sum(numeros)/len(numeros)"
   ]
  },
  {
   "cell_type": "code",
   "execution_count": 21,
   "id": "5b15d7d6-334d-49d0-828b-76b7e9321a7f",
   "metadata": {
    "scrolled": true
   },
   "outputs": [
    {
     "name": "stdout",
     "output_type": "stream",
     "text": [
      "30.0\n"
     ]
    }
   ],
   "source": [
    "print(media)"
   ]
  },
  {
   "cell_type": "markdown",
   "id": "ce0eba61-a644-46dc-986a-ff813e00450e",
   "metadata": {},
   "source": [
    "![miimagen](bellita.jpg)"
   ]
  }
 ],
 "metadata": {
  "kernelspec": {
   "display_name": "Python [conda env:base] *",
   "language": "python",
   "name": "conda-base-py"
  },
  "language_info": {
   "codemirror_mode": {
    "name": "ipython",
    "version": 3
   },
   "file_extension": ".py",
   "mimetype": "text/x-python",
   "name": "python",
   "nbconvert_exporter": "python",
   "pygments_lexer": "ipython3",
   "version": "3.13.5"
  }
 },
 "nbformat": 4,
 "nbformat_minor": 5
}
